{
 "cells": [
  {
   "cell_type": "code",
   "execution_count": 1,
   "id": "0ed7b53f",
   "metadata": {},
   "outputs": [],
   "source": [
    "import numpy as np\n",
    "import pandas as pd\n",
    "import matplotlib.pyplot as plt"
   ]
  },
  {
   "cell_type": "code",
   "execution_count": 2,
   "id": "e14bad82",
   "metadata": {},
   "outputs": [],
   "source": [
    "lob = pd.read_table(\"UoB_Set01_2024-06-24LOBs.txt\")\n",
    "tape = pd.read_csv(\"UoB_Set01_2024-06-24tapes.csv\",\n",
    "                  names=['Timestamp', 'Price', 'Quantity'])"
   ]
  },
  {
   "cell_type": "code",
   "execution_count": 119,
   "id": "e773a9b3",
   "metadata": {},
   "outputs": [
    {
     "data": {
      "text/html": [
       "<div>\n",
       "<style scoped>\n",
       "    .dataframe tbody tr th:only-of-type {\n",
       "        vertical-align: middle;\n",
       "    }\n",
       "\n",
       "    .dataframe tbody tr th {\n",
       "        vertical-align: top;\n",
       "    }\n",
       "\n",
       "    .dataframe thead th {\n",
       "        text-align: right;\n",
       "    }\n",
       "</style>\n",
       "<table border=\"1\" class=\"dataframe\">\n",
       "  <thead>\n",
       "    <tr style=\"text-align: right;\">\n",
       "      <th></th>\n",
       "      <th>[0.000, Exch0, [['bid', []], ['ask', []]]]</th>\n",
       "      <th>Timestamps</th>\n",
       "      <th>Asks</th>\n",
       "      <th>bids</th>\n",
       "    </tr>\n",
       "  </thead>\n",
       "  <tbody>\n",
       "    <tr>\n",
       "      <th>5</th>\n",
       "      <td>[3.999, Exch0, [['bid', [[1, 8]]], ['ask', [[9...</td>\n",
       "      <td>3.999</td>\n",
       "      <td>[[92, 2], [93, 1], [95, 5], [96, 4]]</td>\n",
       "      <td>[]</td>\n",
       "    </tr>\n",
       "    <tr>\n",
       "      <th>6</th>\n",
       "      <td>[4.030, Exch0, [['bid', [[20, 2], [1, 8]]], ['...</td>\n",
       "      <td>4.030</td>\n",
       "      <td>[[92, 2], [93, 1], [95, 5], [96, 4]]</td>\n",
       "      <td>[[20, 2], [1, 8]]</td>\n",
       "    </tr>\n",
       "    <tr>\n",
       "      <th>7</th>\n",
       "      <td>[4.309, Exch0, [['bid', [[20, 2], [1, 8]]], ['...</td>\n",
       "      <td>4.309</td>\n",
       "      <td>[[92, 2], [93, 1], [95, 5], [96, 4], [166, 4]]</td>\n",
       "      <td>[[20, 2], [1, 8]]</td>\n",
       "    </tr>\n",
       "    <tr>\n",
       "      <th>8</th>\n",
       "      <td>[4.619, Exch0, [['bid', [[20, 2], [1, 8]]], ['...</td>\n",
       "      <td>4.619</td>\n",
       "      <td>[[92, 1], [93, 1], [95, 5], [96, 4], [166, 4]]</td>\n",
       "      <td>[[20, 2], [1, 8]]</td>\n",
       "    </tr>\n",
       "    <tr>\n",
       "      <th>9</th>\n",
       "      <td>[4.681, Exch0, [['bid', [[27, 2], [1, 8]]], ['...</td>\n",
       "      <td>4.681</td>\n",
       "      <td>[[92, 1], [93, 1], [95, 5], [96, 4], [166, 4]]</td>\n",
       "      <td>[[27, 2], [1, 8]]</td>\n",
       "    </tr>\n",
       "  </tbody>\n",
       "</table>\n",
       "</div>"
      ],
      "text/plain": [
       "          [0.000, Exch0, [['bid', []], ['ask', []]]] Timestamps  \\\n",
       "5  [3.999, Exch0, [['bid', [[1, 8]]], ['ask', [[9...      3.999   \n",
       "6  [4.030, Exch0, [['bid', [[20, 2], [1, 8]]], ['...      4.030   \n",
       "7  [4.309, Exch0, [['bid', [[20, 2], [1, 8]]], ['...      4.309   \n",
       "8  [4.619, Exch0, [['bid', [[20, 2], [1, 8]]], ['...      4.619   \n",
       "9  [4.681, Exch0, [['bid', [[27, 2], [1, 8]]], ['...      4.681   \n",
       "\n",
       "                                             Asks               bids  \n",
       "5            [[92, 2], [93, 1], [95, 5], [96, 4]]                 []  \n",
       "6            [[92, 2], [93, 1], [95, 5], [96, 4]]  [[20, 2], [1, 8]]  \n",
       "7  [[92, 2], [93, 1], [95, 5], [96, 4], [166, 4]]  [[20, 2], [1, 8]]  \n",
       "8  [[92, 1], [93, 1], [95, 5], [96, 4], [166, 4]]  [[20, 2], [1, 8]]  \n",
       "9  [[92, 1], [93, 1], [95, 5], [96, 4], [166, 4]]  [[27, 2], [1, 8]]  "
      ]
     },
     "execution_count": 119,
     "metadata": {},
     "output_type": "execute_result"
    }
   ],
   "source": [
    "lob[5:10]"
   ]
  },
  {
   "cell_type": "code",
   "execution_count": 5,
   "id": "27d21075",
   "metadata": {},
   "outputs": [],
   "source": [
    "pattern = r'(\\d+.+?),'\n",
    "timestamps = lob.iloc[:,0].str.extract(pattern)\n",
    "lob['Timestamps'] = timestamps"
   ]
  },
  {
   "cell_type": "code",
   "execution_count": 137,
   "id": "3b0cf497",
   "metadata": {},
   "outputs": [],
   "source": [
    "pattern1 = r\"'ask', (\\[\\[(?:\\d+,\\s*\\d+)\\]\\])\"\n",
    "pattern2 = r\"'ask', (\\[(\\[(?:\\d+,\\s*)+\\d+\\], )+\\[(?:\\d+,\\s*)+\\d+\\]\\])\"\n",
    "asks1 = lob.iloc[:,0].str.findall(pattern1)\n",
    "asks2 = lob.iloc[:,0].str.findall(pattern2)"
   ]
  },
  {
   "cell_type": "code",
   "execution_count": 138,
   "id": "1d2be41d",
   "metadata": {},
   "outputs": [],
   "source": [
    "ask_list = []\n",
    "for ask in asks2:\n",
    "    if len(ask) == 0:\n",
    "        ask_list.append('[]')\n",
    "    else:\n",
    "        ask_list.append(ask[0][0])"
   ]
  },
  {
   "cell_type": "code",
   "execution_count": 139,
   "id": "d4de8a3f",
   "metadata": {},
   "outputs": [],
   "source": [
    "for i in range(len(ask_list)):\n",
    "    if ask_list[i] == '[]':\n",
    "        if asks1[i] != []:\n",
    "            ask_list[i] = asks1[i][0]"
   ]
  },
  {
   "cell_type": "code",
   "execution_count": 140,
   "id": "575f91bd",
   "metadata": {},
   "outputs": [],
   "source": [
    "lob['Asks'] = ask_list"
   ]
  },
  {
   "cell_type": "code",
   "execution_count": 132,
   "id": "7caf3f73",
   "metadata": {},
   "outputs": [],
   "source": [
    "pattern1 = r\"'bid', (\\[\\[(?:\\d+,\\s*\\d+)\\]\\])\"\n",
    "pattern2 = r\"'bid', (\\[(\\[(?:\\d+,\\s*)+\\d+\\], )+\\[(?:\\d+,\\s*)+\\d+\\]\\])\"\n",
    "bids1 = lob.iloc[:,0].str.findall(pattern1)\n",
    "bids2 = lob.iloc[:,0].str.findall(pattern2)"
   ]
  },
  {
   "cell_type": "code",
   "execution_count": 134,
   "id": "b0a2a4bb",
   "metadata": {},
   "outputs": [],
   "source": [
    "bid_list = []\n",
    "for bid in bids2:\n",
    "    if len(bid) == 0:\n",
    "        bid_list.append('[]')\n",
    "    else:\n",
    "        bid_list.append(bid[0][0])"
   ]
  },
  {
   "cell_type": "code",
   "execution_count": 135,
   "id": "b04356f7",
   "metadata": {},
   "outputs": [],
   "source": [
    "for i in range(len(bid_list)):\n",
    "    if bid_list[i] == '[]':\n",
    "        if bids1[i] != []:\n",
    "            bid_list[i] = bids1[i][0]"
   ]
  },
  {
   "cell_type": "code",
   "execution_count": 142,
   "id": "772d2aec",
   "metadata": {},
   "outputs": [],
   "source": [
    "lob['bids'] = bid_list"
   ]
  },
  {
   "cell_type": "code",
   "execution_count": 143,
   "id": "41cae11d",
   "metadata": {},
   "outputs": [],
   "source": [
    "lob = lob.drop(columns=\"[0.000, Exch0, [['bid', []], ['ask', []]]]\")"
   ]
  },
  {
   "cell_type": "code",
   "execution_count": 144,
   "id": "e7bcb913",
   "metadata": {},
   "outputs": [
    {
     "data": {
      "text/html": [
       "<div>\n",
       "<style scoped>\n",
       "    .dataframe tbody tr th:only-of-type {\n",
       "        vertical-align: middle;\n",
       "    }\n",
       "\n",
       "    .dataframe tbody tr th {\n",
       "        vertical-align: top;\n",
       "    }\n",
       "\n",
       "    .dataframe thead th {\n",
       "        text-align: right;\n",
       "    }\n",
       "</style>\n",
       "<table border=\"1\" class=\"dataframe\">\n",
       "  <thead>\n",
       "    <tr style=\"text-align: right;\">\n",
       "      <th></th>\n",
       "      <th>Timestamps</th>\n",
       "      <th>bids</th>\n",
       "      <th>Asks</th>\n",
       "    </tr>\n",
       "  </thead>\n",
       "  <tbody>\n",
       "    <tr>\n",
       "      <th>0</th>\n",
       "      <td>0.000</td>\n",
       "      <td>[]</td>\n",
       "      <td>[]</td>\n",
       "    </tr>\n",
       "    <tr>\n",
       "      <th>1</th>\n",
       "      <td>1.271</td>\n",
       "      <td>[]</td>\n",
       "      <td>[[92, 4]]</td>\n",
       "    </tr>\n",
       "    <tr>\n",
       "      <th>2</th>\n",
       "      <td>1.364</td>\n",
       "      <td>[]</td>\n",
       "      <td>[[92, 2]]</td>\n",
       "    </tr>\n",
       "    <tr>\n",
       "      <th>3</th>\n",
       "      <td>2.232</td>\n",
       "      <td>[]</td>\n",
       "      <td>[[92, 2], [93, 1]]</td>\n",
       "    </tr>\n",
       "    <tr>\n",
       "      <th>4</th>\n",
       "      <td>2.542</td>\n",
       "      <td>[]</td>\n",
       "      <td>[[92, 2], [93, 1], [96, 4]]</td>\n",
       "    </tr>\n",
       "    <tr>\n",
       "      <th>...</th>\n",
       "      <td>...</td>\n",
       "      <td>...</td>\n",
       "      <td>...</td>\n",
       "    </tr>\n",
       "    <tr>\n",
       "      <th>324236</th>\n",
       "      <td>30599.604</td>\n",
       "      <td>[[109, 2], [108, 3], [106, 2], [105, 7], [104,...</td>\n",
       "      <td>[[120, 5], [121, 3], [123, 4], [125, 3], [255,...</td>\n",
       "    </tr>\n",
       "    <tr>\n",
       "      <th>324237</th>\n",
       "      <td>30599.728</td>\n",
       "      <td>[[109, 2], [108, 3], [106, 2], [105, 7], [104,...</td>\n",
       "      <td>[[120, 5], [121, 3], [123, 4], [125, 3], [255,...</td>\n",
       "    </tr>\n",
       "    <tr>\n",
       "      <th>324238</th>\n",
       "      <td>30599.790</td>\n",
       "      <td>[[109, 2], [108, 3], [106, 2], [105, 7], [104,...</td>\n",
       "      <td>[[120, 5], [121, 3], [123, 4], [125, 3], [200,...</td>\n",
       "    </tr>\n",
       "    <tr>\n",
       "      <th>324239</th>\n",
       "      <td>30599.821</td>\n",
       "      <td>[[108, 1], [106, 2], [105, 7], [104, 4], [103,...</td>\n",
       "      <td>[[120, 5], [121, 3], [123, 4], [125, 3], [200,...</td>\n",
       "    </tr>\n",
       "    <tr>\n",
       "      <th>324240</th>\n",
       "      <td>30599.914</td>\n",
       "      <td>[[108, 1], [106, 2], [105, 7], [104, 4], [103,...</td>\n",
       "      <td>[[120, 5], [121, 3], [123, 4], [125, 3], [452,...</td>\n",
       "    </tr>\n",
       "  </tbody>\n",
       "</table>\n",
       "<p>324241 rows × 3 columns</p>\n",
       "</div>"
      ],
      "text/plain": [
       "       Timestamps                                               bids  \\\n",
       "0           0.000                                                 []   \n",
       "1           1.271                                                 []   \n",
       "2           1.364                                                 []   \n",
       "3           2.232                                                 []   \n",
       "4           2.542                                                 []   \n",
       "...           ...                                                ...   \n",
       "324236  30599.604  [[109, 2], [108, 3], [106, 2], [105, 7], [104,...   \n",
       "324237  30599.728  [[109, 2], [108, 3], [106, 2], [105, 7], [104,...   \n",
       "324238  30599.790  [[109, 2], [108, 3], [106, 2], [105, 7], [104,...   \n",
       "324239  30599.821  [[108, 1], [106, 2], [105, 7], [104, 4], [103,...   \n",
       "324240  30599.914  [[108, 1], [106, 2], [105, 7], [104, 4], [103,...   \n",
       "\n",
       "                                                     Asks  \n",
       "0                                                      []  \n",
       "1                                               [[92, 4]]  \n",
       "2                                               [[92, 2]]  \n",
       "3                                      [[92, 2], [93, 1]]  \n",
       "4                             [[92, 2], [93, 1], [96, 4]]  \n",
       "...                                                   ...  \n",
       "324236  [[120, 5], [121, 3], [123, 4], [125, 3], [255,...  \n",
       "324237  [[120, 5], [121, 3], [123, 4], [125, 3], [255,...  \n",
       "324238  [[120, 5], [121, 3], [123, 4], [125, 3], [200,...  \n",
       "324239  [[120, 5], [121, 3], [123, 4], [125, 3], [200,...  \n",
       "324240  [[120, 5], [121, 3], [123, 4], [125, 3], [452,...  \n",
       "\n",
       "[324241 rows x 3 columns]"
      ]
     },
     "execution_count": 144,
     "metadata": {},
     "output_type": "execute_result"
    }
   ],
   "source": [
    "new_row = pd.DataFrame({'Timestamps':'0.000', 'bids':'[]', 'Asks':'[]'}, index=[0])\n",
    "lob = pd.concat([new_row,lob.loc[:]]).reset_index(drop=True)\n",
    "lob"
   ]
  },
  {
   "cell_type": "code",
   "execution_count": 148,
   "id": "a8d967bf",
   "metadata": {},
   "outputs": [
    {
     "data": {
      "text/plain": [
       "'[[92, 2], [93, 1], [95, 5], [96, 4]]'"
      ]
     },
     "execution_count": 148,
     "metadata": {},
     "output_type": "execute_result"
    }
   ],
   "source": [
    "lob.iloc[6,:].Asks"
   ]
  }
 ],
 "metadata": {
  "kernelspec": {
   "display_name": "Python 3 (ipykernel)",
   "language": "python",
   "name": "python3"
  },
  "language_info": {
   "codemirror_mode": {
    "name": "ipython",
    "version": 3
   },
   "file_extension": ".py",
   "mimetype": "text/x-python",
   "name": "python",
   "nbconvert_exporter": "python",
   "pygments_lexer": "ipython3",
   "version": "3.10.5"
  }
 },
 "nbformat": 4,
 "nbformat_minor": 5
}
