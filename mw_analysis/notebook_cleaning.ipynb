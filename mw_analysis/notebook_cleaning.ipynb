{
 "cells": [
  {
   "cell_type": "code",
   "execution_count": 4,
   "id": "8c182fd4",
   "metadata": {},
   "outputs": [],
   "source": [
    "import numpy as np\n",
    "import pandas as pd\n",
    "import matplotlib.pyplot as plt\n",
    "import ast"
   ]
  },
  {
   "cell_type": "markdown",
   "id": "057ae864",
   "metadata": {},
   "source": [
    "## LOB Cleaning"
   ]
  },
  {
   "cell_type": "code",
   "execution_count": 22,
   "id": "bc6e382f",
   "metadata": {},
   "outputs": [],
   "source": [
    "# insert date name\n",
    "name = '2024-06-26'\n",
    "\n",
    "lob = pd.read_table(f\"./data/UoB_Set01_{name}LOBs.txt\")\n",
    "# tape = pd.read_csv(\"UoB_Set01_2024-06-24tapes.csv\",\n",
    "                 # names=['Timestamp', 'Price', 'Quantity'])"
   ]
  },
  {
   "cell_type": "code",
   "execution_count": 23,
   "id": "b2fcd7f7",
   "metadata": {},
   "outputs": [
    {
     "data": {
      "text/html": [
       "<div>\n",
       "<style scoped>\n",
       "    .dataframe tbody tr th:only-of-type {\n",
       "        vertical-align: middle;\n",
       "    }\n",
       "\n",
       "    .dataframe tbody tr th {\n",
       "        vertical-align: top;\n",
       "    }\n",
       "\n",
       "    .dataframe thead th {\n",
       "        text-align: right;\n",
       "    }\n",
       "</style>\n",
       "<table border=\"1\" class=\"dataframe\">\n",
       "  <thead>\n",
       "    <tr style=\"text-align: right;\">\n",
       "      <th></th>\n",
       "      <th>[0.000, Exch0, [['bid', []], ['ask', []]]]</th>\n",
       "    </tr>\n",
       "  </thead>\n",
       "  <tbody>\n",
       "    <tr>\n",
       "      <th>0</th>\n",
       "      <td>[1.922, Exch0, [['bid', []], ['ask', [[708, 4]...</td>\n",
       "    </tr>\n",
       "    <tr>\n",
       "      <th>1</th>\n",
       "      <td>[2.790, Exch0, [['bid', [[5, 1]]], ['ask', [[7...</td>\n",
       "    </tr>\n",
       "    <tr>\n",
       "      <th>2</th>\n",
       "      <td>[3.255, Exch0, [['bid', [[59, 1]]], ['ask', [[...</td>\n",
       "    </tr>\n",
       "    <tr>\n",
       "      <th>3</th>\n",
       "      <td>[3.379, Exch0, [['bid', [[59, 1]]], ['ask', [[...</td>\n",
       "    </tr>\n",
       "    <tr>\n",
       "      <th>4</th>\n",
       "      <td>[3.441, Exch0, [['bid', [[108, 1], [59, 1]]], ...</td>\n",
       "    </tr>\n",
       "    <tr>\n",
       "      <th>...</th>\n",
       "      <td>...</td>\n",
       "    </tr>\n",
       "    <tr>\n",
       "      <th>320093</th>\n",
       "      <td>[30599.728, Exch0, [['bid', [[105, 9], [104, 8...</td>\n",
       "    </tr>\n",
       "    <tr>\n",
       "      <th>320094</th>\n",
       "      <td>[30599.759, Exch0, [['bid', [[105, 9], [104, 8...</td>\n",
       "    </tr>\n",
       "    <tr>\n",
       "      <th>320095</th>\n",
       "      <td>[30599.821, Exch0, [['bid', [[105, 9], [104, 8...</td>\n",
       "    </tr>\n",
       "    <tr>\n",
       "      <th>320096</th>\n",
       "      <td>[30599.914, Exch0, [['bid', [[105, 9], [104, 8...</td>\n",
       "    </tr>\n",
       "    <tr>\n",
       "      <th>320097</th>\n",
       "      <td>[30599.976, Exch0, [['bid', [[105, 9], [104, 8...</td>\n",
       "    </tr>\n",
       "  </tbody>\n",
       "</table>\n",
       "<p>320098 rows × 1 columns</p>\n",
       "</div>"
      ],
      "text/plain": [
       "               [0.000, Exch0, [['bid', []], ['ask', []]]]\n",
       "0       [1.922, Exch0, [['bid', []], ['ask', [[708, 4]...\n",
       "1       [2.790, Exch0, [['bid', [[5, 1]]], ['ask', [[7...\n",
       "2       [3.255, Exch0, [['bid', [[59, 1]]], ['ask', [[...\n",
       "3       [3.379, Exch0, [['bid', [[59, 1]]], ['ask', [[...\n",
       "4       [3.441, Exch0, [['bid', [[108, 1], [59, 1]]], ...\n",
       "...                                                   ...\n",
       "320093  [30599.728, Exch0, [['bid', [[105, 9], [104, 8...\n",
       "320094  [30599.759, Exch0, [['bid', [[105, 9], [104, 8...\n",
       "320095  [30599.821, Exch0, [['bid', [[105, 9], [104, 8...\n",
       "320096  [30599.914, Exch0, [['bid', [[105, 9], [104, 8...\n",
       "320097  [30599.976, Exch0, [['bid', [[105, 9], [104, 8...\n",
       "\n",
       "[320098 rows x 1 columns]"
      ]
     },
     "execution_count": 23,
     "metadata": {},
     "output_type": "execute_result"
    }
   ],
   "source": [
    "lob"
   ]
  },
  {
   "cell_type": "code",
   "execution_count": 24,
   "id": "00951d48",
   "metadata": {},
   "outputs": [
    {
     "data": {
      "text/plain": [
       "[0.000, Exch0, [['bid', []], ['ask', []]]]    0\n",
       "dtype: int64"
      ]
     },
     "execution_count": 24,
     "metadata": {},
     "output_type": "execute_result"
    }
   ],
   "source": [
    "lob.isnull().sum()"
   ]
  },
  {
   "cell_type": "markdown",
   "id": "25aabc88",
   "metadata": {},
   "source": [
    "There is no missing data in this LOB (24/06/2024)."
   ]
  },
  {
   "cell_type": "markdown",
   "id": "b73e1586",
   "metadata": {},
   "source": [
    "First, we extract the timestamp information using regex..."
   ]
  },
  {
   "cell_type": "code",
   "execution_count": 25,
   "id": "dae290dc",
   "metadata": {},
   "outputs": [],
   "source": [
    "pattern = r'(\\d+.+?),'\n",
    "timestamps = lob.iloc[:,0].str.extract(pattern)\n",
    "lob['Timestamps'] = timestamps"
   ]
  },
  {
   "cell_type": "markdown",
   "id": "33ed4f12",
   "metadata": {},
   "source": [
    "We then extract the ask data in a similar way. However, we need to use two regex statements and then converge them to one list, to account for the cases where there is only one price in the ask section."
   ]
  },
  {
   "cell_type": "code",
   "execution_count": 26,
   "id": "51860b0a",
   "metadata": {},
   "outputs": [],
   "source": [
    "pattern1 = r\"'ask', (\\[\\[(?:\\d+,\\s*\\d+)\\]\\])\"\n",
    "pattern2 = r\"'ask', (\\[(\\[(?:\\d+,\\s*)+\\d+\\], )+\\[(?:\\d+,\\s*)+\\d+\\]\\])\"\n",
    "asks1 = lob.iloc[:,0].str.findall(pattern1)\n",
    "asks2 = lob.iloc[:,0].str.findall(pattern2)"
   ]
  },
  {
   "cell_type": "code",
   "execution_count": 27,
   "id": "ef8dfa2c",
   "metadata": {},
   "outputs": [],
   "source": [
    "ask_list = []\n",
    "for ask in asks2:\n",
    "    if len(ask) == 0:\n",
    "        ask_list.append('[]')\n",
    "    else:\n",
    "        ask_list.append(ask[0][0])"
   ]
  },
  {
   "cell_type": "code",
   "execution_count": 28,
   "id": "8ba07e9e",
   "metadata": {},
   "outputs": [],
   "source": [
    "for i in range(len(ask_list)):\n",
    "    if ask_list[i] == '[]':\n",
    "        if asks1[i] != []:\n",
    "            ask_list[i] = asks1[i][0]"
   ]
  },
  {
   "cell_type": "code",
   "execution_count": 29,
   "id": "b3105153",
   "metadata": {},
   "outputs": [],
   "source": [
    "lob['Asks'] = ask_list"
   ]
  },
  {
   "cell_type": "markdown",
   "id": "2affe90e",
   "metadata": {},
   "source": [
    "We do the same for the bid data..."
   ]
  },
  {
   "cell_type": "code",
   "execution_count": 30,
   "id": "a36d18e9",
   "metadata": {},
   "outputs": [],
   "source": [
    "pattern1 = r\"'bid', (\\[\\[(?:\\d+,\\s*\\d+)\\]\\])\"\n",
    "pattern2 = r\"'bid', (\\[(\\[(?:\\d+,\\s*)+\\d+\\], )+\\[(?:\\d+,\\s*)+\\d+\\]\\])\"\n",
    "bids1 = lob.iloc[:,0].str.findall(pattern1)\n",
    "bids2 = lob.iloc[:,0].str.findall(pattern2)"
   ]
  },
  {
   "cell_type": "code",
   "execution_count": 31,
   "id": "91e227c6",
   "metadata": {},
   "outputs": [],
   "source": [
    "bid_list = []\n",
    "for bid in bids2:\n",
    "    if len(bid) == 0:\n",
    "        bid_list.append('[]')\n",
    "    else:\n",
    "        bid_list.append(bid[0][0])"
   ]
  },
  {
   "cell_type": "code",
   "execution_count": 32,
   "id": "88e5d87c",
   "metadata": {},
   "outputs": [],
   "source": [
    "for i in range(len(bid_list)):\n",
    "    if bid_list[i] == '[]':\n",
    "        if bids1[i] != []:\n",
    "            bid_list[i] = bids1[i][0]"
   ]
  },
  {
   "cell_type": "code",
   "execution_count": 33,
   "id": "b7d7fd8b",
   "metadata": {},
   "outputs": [],
   "source": [
    "lob['Bids'] = bid_list"
   ]
  },
  {
   "cell_type": "markdown",
   "id": "6c6ef1bb",
   "metadata": {},
   "source": [
    "We get rid of the original column so that we are left with just our initial column. We also add in the original row (imported as a header initially)."
   ]
  },
  {
   "cell_type": "code",
   "execution_count": 34,
   "id": "87d62124",
   "metadata": {},
   "outputs": [],
   "source": [
    "lob = lob.drop(columns=\"[0.000, Exch0, [['bid', []], ['ask', []]]]\")\n",
    "new_row = pd.DataFrame({'Timestamps':'0.000', 'Bids':'[]', 'Asks':'[]'}, index=[0])\n",
    "lob = pd.concat([new_row,lob.loc[:]]).reset_index(drop=True)"
   ]
  },
  {
   "cell_type": "markdown",
   "id": "f9fbf0ea",
   "metadata": {},
   "source": [
    "Now, we export the data to a cleaned csv file for re-import to an EDA procedure."
   ]
  },
  {
   "cell_type": "code",
   "execution_count": 35,
   "id": "7e234802",
   "metadata": {},
   "outputs": [
    {
     "data": {
      "text/html": [
       "<div>\n",
       "<style scoped>\n",
       "    .dataframe tbody tr th:only-of-type {\n",
       "        vertical-align: middle;\n",
       "    }\n",
       "\n",
       "    .dataframe tbody tr th {\n",
       "        vertical-align: top;\n",
       "    }\n",
       "\n",
       "    .dataframe thead th {\n",
       "        text-align: right;\n",
       "    }\n",
       "</style>\n",
       "<table border=\"1\" class=\"dataframe\">\n",
       "  <thead>\n",
       "    <tr style=\"text-align: right;\">\n",
       "      <th></th>\n",
       "      <th>Timestamps</th>\n",
       "      <th>Bids</th>\n",
       "      <th>Asks</th>\n",
       "    </tr>\n",
       "  </thead>\n",
       "  <tbody>\n",
       "    <tr>\n",
       "      <th>0</th>\n",
       "      <td>0.000</td>\n",
       "      <td>[]</td>\n",
       "      <td>[]</td>\n",
       "    </tr>\n",
       "    <tr>\n",
       "      <th>1</th>\n",
       "      <td>1.922</td>\n",
       "      <td>[]</td>\n",
       "      <td>[[708, 4]]</td>\n",
       "    </tr>\n",
       "    <tr>\n",
       "      <th>2</th>\n",
       "      <td>2.790</td>\n",
       "      <td>[[5, 1]]</td>\n",
       "      <td>[[708, 4]]</td>\n",
       "    </tr>\n",
       "    <tr>\n",
       "      <th>3</th>\n",
       "      <td>3.255</td>\n",
       "      <td>[[59, 1]]</td>\n",
       "      <td>[[708, 4]]</td>\n",
       "    </tr>\n",
       "    <tr>\n",
       "      <th>4</th>\n",
       "      <td>3.379</td>\n",
       "      <td>[[59, 1]]</td>\n",
       "      <td>[[596, 4]]</td>\n",
       "    </tr>\n",
       "    <tr>\n",
       "      <th>...</th>\n",
       "      <td>...</td>\n",
       "      <td>...</td>\n",
       "      <td>...</td>\n",
       "    </tr>\n",
       "    <tr>\n",
       "      <th>320094</th>\n",
       "      <td>30599.728</td>\n",
       "      <td>[[105, 9], [104, 8], [101, 1], [100, 5], [89, ...</td>\n",
       "      <td>[[166, 5], [167, 1], [169, 5], [329, 2], [419,...</td>\n",
       "    </tr>\n",
       "    <tr>\n",
       "      <th>320095</th>\n",
       "      <td>30599.759</td>\n",
       "      <td>[[105, 9], [104, 8], [101, 1], [100, 5], [89, ...</td>\n",
       "      <td>[[166, 5], [167, 1], [169, 5], [419, 3], [466,...</td>\n",
       "    </tr>\n",
       "    <tr>\n",
       "      <th>320096</th>\n",
       "      <td>30599.821</td>\n",
       "      <td>[[105, 9], [104, 8], [101, 1], [100, 5], [79, ...</td>\n",
       "      <td>[[166, 5], [167, 1], [169, 5], [419, 3], [466,...</td>\n",
       "    </tr>\n",
       "    <tr>\n",
       "      <th>320097</th>\n",
       "      <td>30599.914</td>\n",
       "      <td>[[105, 9], [104, 8], [101, 1], [100, 5], [79, ...</td>\n",
       "      <td>[[165, 5], [166, 5], [167, 1], [419, 3], [466,...</td>\n",
       "    </tr>\n",
       "    <tr>\n",
       "      <th>320098</th>\n",
       "      <td>30599.976</td>\n",
       "      <td>[[105, 9], [104, 8], [101, 1], [100, 5], [75, ...</td>\n",
       "      <td>[[165, 5], [166, 5], [167, 1], [419, 3], [466,...</td>\n",
       "    </tr>\n",
       "  </tbody>\n",
       "</table>\n",
       "<p>320099 rows × 3 columns</p>\n",
       "</div>"
      ],
      "text/plain": [
       "       Timestamps                                               Bids  \\\n",
       "0           0.000                                                 []   \n",
       "1           1.922                                                 []   \n",
       "2           2.790                                           [[5, 1]]   \n",
       "3           3.255                                          [[59, 1]]   \n",
       "4           3.379                                          [[59, 1]]   \n",
       "...           ...                                                ...   \n",
       "320094  30599.728  [[105, 9], [104, 8], [101, 1], [100, 5], [89, ...   \n",
       "320095  30599.759  [[105, 9], [104, 8], [101, 1], [100, 5], [89, ...   \n",
       "320096  30599.821  [[105, 9], [104, 8], [101, 1], [100, 5], [79, ...   \n",
       "320097  30599.914  [[105, 9], [104, 8], [101, 1], [100, 5], [79, ...   \n",
       "320098  30599.976  [[105, 9], [104, 8], [101, 1], [100, 5], [75, ...   \n",
       "\n",
       "                                                     Asks  \n",
       "0                                                      []  \n",
       "1                                              [[708, 4]]  \n",
       "2                                              [[708, 4]]  \n",
       "3                                              [[708, 4]]  \n",
       "4                                              [[596, 4]]  \n",
       "...                                                   ...  \n",
       "320094  [[166, 5], [167, 1], [169, 5], [329, 2], [419,...  \n",
       "320095  [[166, 5], [167, 1], [169, 5], [419, 3], [466,...  \n",
       "320096  [[166, 5], [167, 1], [169, 5], [419, 3], [466,...  \n",
       "320097  [[165, 5], [166, 5], [167, 1], [419, 3], [466,...  \n",
       "320098  [[165, 5], [166, 5], [167, 1], [419, 3], [466,...  \n",
       "\n",
       "[320099 rows x 3 columns]"
      ]
     },
     "execution_count": 35,
     "metadata": {},
     "output_type": "execute_result"
    }
   ],
   "source": [
    "lob"
   ]
  },
  {
   "cell_type": "code",
   "execution_count": 36,
   "id": "d653939f",
   "metadata": {},
   "outputs": [],
   "source": [
    "lob.to_csv(f'./data/cleaned_lob_data_{name}.csv')"
   ]
  },
  {
   "cell_type": "markdown",
   "id": "80195f18",
   "metadata": {},
   "source": [
    "## Tape Cleaning"
   ]
  },
  {
   "cell_type": "code",
   "execution_count": 38,
   "id": "cc6a0281",
   "metadata": {},
   "outputs": [],
   "source": [
    "tape = pd.read_csv('./data/UoB_Set01_2024-06-26tapes.csv', names=['Timestamp', 'Price', 'Quantity'], index_col=0)"
   ]
  },
  {
   "cell_type": "code",
   "execution_count": 39,
   "id": "70e73cbe",
   "metadata": {},
   "outputs": [
    {
     "data": {
      "text/html": [
       "<div>\n",
       "<style scoped>\n",
       "    .dataframe tbody tr th:only-of-type {\n",
       "        vertical-align: middle;\n",
       "    }\n",
       "\n",
       "    .dataframe tbody tr th {\n",
       "        vertical-align: top;\n",
       "    }\n",
       "\n",
       "    .dataframe thead th {\n",
       "        text-align: right;\n",
       "    }\n",
       "</style>\n",
       "<table border=\"1\" class=\"dataframe\">\n",
       "  <thead>\n",
       "    <tr style=\"text-align: right;\">\n",
       "      <th></th>\n",
       "      <th>Price</th>\n",
       "      <th>Quantity</th>\n",
       "    </tr>\n",
       "    <tr>\n",
       "      <th>Timestamp</th>\n",
       "      <th></th>\n",
       "      <th></th>\n",
       "    </tr>\n",
       "  </thead>\n",
       "  <tbody>\n",
       "    <tr>\n",
       "      <th>7.347</th>\n",
       "      <td>108</td>\n",
       "      <td>1</td>\n",
       "    </tr>\n",
       "    <tr>\n",
       "      <th>12.617</th>\n",
       "      <td>107</td>\n",
       "      <td>1</td>\n",
       "    </tr>\n",
       "    <tr>\n",
       "      <th>15.097</th>\n",
       "      <td>105</td>\n",
       "      <td>1</td>\n",
       "    </tr>\n",
       "    <tr>\n",
       "      <th>15.841</th>\n",
       "      <td>104</td>\n",
       "      <td>2</td>\n",
       "    </tr>\n",
       "    <tr>\n",
       "      <th>16.089</th>\n",
       "      <td>105</td>\n",
       "      <td>3</td>\n",
       "    </tr>\n",
       "    <tr>\n",
       "      <th>...</th>\n",
       "      <td>...</td>\n",
       "      <td>...</td>\n",
       "    </tr>\n",
       "    <tr>\n",
       "      <th>30588.537</th>\n",
       "      <td>103</td>\n",
       "      <td>2</td>\n",
       "    </tr>\n",
       "    <tr>\n",
       "      <th>30592.381</th>\n",
       "      <td>108</td>\n",
       "      <td>3</td>\n",
       "    </tr>\n",
       "    <tr>\n",
       "      <th>30593.311</th>\n",
       "      <td>108</td>\n",
       "      <td>1</td>\n",
       "    </tr>\n",
       "    <tr>\n",
       "      <th>30593.776</th>\n",
       "      <td>107</td>\n",
       "      <td>4</td>\n",
       "    </tr>\n",
       "    <tr>\n",
       "      <th>30597.217</th>\n",
       "      <td>106</td>\n",
       "      <td>1</td>\n",
       "    </tr>\n",
       "  </tbody>\n",
       "</table>\n",
       "<p>27904 rows × 2 columns</p>\n",
       "</div>"
      ],
      "text/plain": [
       "           Price  Quantity\n",
       "Timestamp                 \n",
       "7.347        108         1\n",
       "12.617       107         1\n",
       "15.097       105         1\n",
       "15.841       104         2\n",
       "16.089       105         3\n",
       "...          ...       ...\n",
       "30588.537    103         2\n",
       "30592.381    108         3\n",
       "30593.311    108         1\n",
       "30593.776    107         4\n",
       "30597.217    106         1\n",
       "\n",
       "[27904 rows x 2 columns]"
      ]
     },
     "execution_count": 39,
     "metadata": {},
     "output_type": "execute_result"
    }
   ],
   "source": [
    "tape"
   ]
  },
  {
   "cell_type": "code",
   "execution_count": null,
   "id": "227bb4ec",
   "metadata": {},
   "outputs": [],
   "source": [
    "tape.to_csv('cleaned_tape_data_2024-06-26.csv')"
   ]
  }
 ],
 "metadata": {
  "kernelspec": {
   "display_name": "Python 3 (ipykernel)",
   "language": "python",
   "name": "python3"
  },
  "language_info": {
   "codemirror_mode": {
    "name": "ipython",
    "version": 3
   },
   "file_extension": ".py",
   "mimetype": "text/x-python",
   "name": "python",
   "nbconvert_exporter": "python",
   "pygments_lexer": "ipython3",
   "version": "3.10.5"
  }
 },
 "nbformat": 4,
 "nbformat_minor": 5
}
