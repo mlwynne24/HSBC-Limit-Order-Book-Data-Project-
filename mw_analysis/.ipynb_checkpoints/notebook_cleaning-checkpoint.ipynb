{
 "cells": [
  {
   "cell_type": "code",
   "execution_count": 51,
   "id": "8c182fd4",
   "metadata": {},
   "outputs": [],
   "source": [
    "import numpy as np\n",
    "import pandas as pd\n",
    "import matplotlib.pyplot as plt\n",
    "import ast"
   ]
  },
  {
   "cell_type": "code",
   "execution_count": 52,
   "id": "bc6e382f",
   "metadata": {},
   "outputs": [],
   "source": [
    "# insert date name\n",
    "name = '2024-06-24'\n",
    "\n",
    "lob = pd.read_table(f\"UoB_Set01_{name}LOBs.txt\")\n",
    "# tape = pd.read_csv(\"UoB_Set01_2024-06-24tapes.csv\",\n",
    "                 # names=['Timestamp', 'Price', 'Quantity'])"
   ]
  },
  {
   "cell_type": "code",
   "execution_count": 53,
   "id": "00951d48",
   "metadata": {},
   "outputs": [
    {
     "data": {
      "text/plain": [
       "[0.000, Exch0, [['bid', []], ['ask', []]]]    0\n",
       "dtype: int64"
      ]
     },
     "execution_count": 53,
     "metadata": {},
     "output_type": "execute_result"
    }
   ],
   "source": [
    "lob.isnull().sum()"
   ]
  },
  {
   "cell_type": "markdown",
   "id": "25aabc88",
   "metadata": {},
   "source": [
    "There is no missing data in this LOB (24/06/2024)."
   ]
  },
  {
   "cell_type": "markdown",
   "id": "b73e1586",
   "metadata": {},
   "source": [
    "First, we extract the timestamp information using regex..."
   ]
  },
  {
   "cell_type": "code",
   "execution_count": 54,
   "id": "dae290dc",
   "metadata": {},
   "outputs": [],
   "source": [
    "pattern = r'(\\d+.+?),'\n",
    "timestamps = lob.iloc[:,0].str.extract(pattern)\n",
    "lob['Timestamps'] = timestamps"
   ]
  },
  {
   "cell_type": "markdown",
   "id": "33ed4f12",
   "metadata": {},
   "source": [
    "We then extract the ask data in a similar way. However, we need to use two regex statements and then converge them to one list, to account for the cases where there is only one price in the ask section."
   ]
  },
  {
   "cell_type": "code",
   "execution_count": 55,
   "id": "51860b0a",
   "metadata": {},
   "outputs": [],
   "source": [
    "pattern1 = r\"'ask', (\\[\\[(?:\\d+,\\s*\\d+)\\]\\])\"\n",
    "pattern2 = r\"'ask', (\\[(\\[(?:\\d+,\\s*)+\\d+\\], )+\\[(?:\\d+,\\s*)+\\d+\\]\\])\"\n",
    "asks1 = lob.iloc[:,0].str.findall(pattern1)\n",
    "asks2 = lob.iloc[:,0].str.findall(pattern2)"
   ]
  },
  {
   "cell_type": "code",
   "execution_count": 56,
   "id": "ef8dfa2c",
   "metadata": {},
   "outputs": [],
   "source": [
    "ask_list = []\n",
    "for ask in asks2:\n",
    "    if len(ask) == 0:\n",
    "        ask_list.append('[]')\n",
    "    else:\n",
    "        ask_list.append(ask[0][0])"
   ]
  },
  {
   "cell_type": "code",
   "execution_count": 57,
   "id": "8ba07e9e",
   "metadata": {},
   "outputs": [],
   "source": [
    "for i in range(len(ask_list)):\n",
    "    if ask_list[i] == '[]':\n",
    "        if asks1[i] != []:\n",
    "            ask_list[i] = asks1[i][0]"
   ]
  },
  {
   "cell_type": "code",
   "execution_count": 58,
   "id": "b3105153",
   "metadata": {},
   "outputs": [],
   "source": [
    "lob['Asks'] = ask_list"
   ]
  },
  {
   "cell_type": "markdown",
   "id": "2affe90e",
   "metadata": {},
   "source": [
    "We do the same for the bid data..."
   ]
  },
  {
   "cell_type": "code",
   "execution_count": 59,
   "id": "a36d18e9",
   "metadata": {},
   "outputs": [],
   "source": [
    "pattern1 = r\"'bid', (\\[\\[(?:\\d+,\\s*\\d+)\\]\\])\"\n",
    "pattern2 = r\"'bid', (\\[(\\[(?:\\d+,\\s*)+\\d+\\], )+\\[(?:\\d+,\\s*)+\\d+\\]\\])\"\n",
    "bids1 = lob.iloc[:,0].str.findall(pattern1)\n",
    "bids2 = lob.iloc[:,0].str.findall(pattern2)"
   ]
  },
  {
   "cell_type": "code",
   "execution_count": 60,
   "id": "91e227c6",
   "metadata": {},
   "outputs": [],
   "source": [
    "bid_list = []\n",
    "for bid in bids2:\n",
    "    if len(bid) == 0:\n",
    "        bid_list.append('[]')\n",
    "    else:\n",
    "        bid_list.append(bid[0][0])"
   ]
  },
  {
   "cell_type": "code",
   "execution_count": 61,
   "id": "88e5d87c",
   "metadata": {},
   "outputs": [],
   "source": [
    "for i in range(len(bid_list)):\n",
    "    if bid_list[i] == '[]':\n",
    "        if bids1[i] != []:\n",
    "            bid_list[i] = bids1[i][0]"
   ]
  },
  {
   "cell_type": "code",
   "execution_count": 62,
   "id": "b7d7fd8b",
   "metadata": {},
   "outputs": [],
   "source": [
    "lob['Bids'] = bid_list"
   ]
  },
  {
   "cell_type": "markdown",
   "id": "6c6ef1bb",
   "metadata": {},
   "source": [
    "We get rid of the original column so that we are left with just our initial column. We also add in the original row (imported as a header initially)."
   ]
  },
  {
   "cell_type": "code",
   "execution_count": 63,
   "id": "63d2b611",
   "metadata": {},
   "outputs": [
    {
     "data": {
      "text/html": [
       "<div>\n",
       "<style scoped>\n",
       "    .dataframe tbody tr th:only-of-type {\n",
       "        vertical-align: middle;\n",
       "    }\n",
       "\n",
       "    .dataframe tbody tr th {\n",
       "        vertical-align: top;\n",
       "    }\n",
       "\n",
       "    .dataframe thead th {\n",
       "        text-align: right;\n",
       "    }\n",
       "</style>\n",
       "<table border=\"1\" class=\"dataframe\">\n",
       "  <thead>\n",
       "    <tr style=\"text-align: right;\">\n",
       "      <th></th>\n",
       "      <th>[0.000, Exch0, [['bid', []], ['ask', []]]]</th>\n",
       "      <th>Timestamps</th>\n",
       "      <th>Asks</th>\n",
       "      <th>Bids</th>\n",
       "    </tr>\n",
       "  </thead>\n",
       "  <tbody>\n",
       "    <tr>\n",
       "      <th>200</th>\n",
       "      <td>[26.102, Exch0, [['bid', [[96, 14], [95, 9], [...</td>\n",
       "      <td>26.102</td>\n",
       "      <td>[[104, 2], [105, 1], [109, 3], [245, 3], [649,...</td>\n",
       "      <td>[[96, 14], [95, 9], [92, 1], [87, 5], [79, 2]]</td>\n",
       "    </tr>\n",
       "    <tr>\n",
       "      <th>201</th>\n",
       "      <td>[26.288, Exch0, [['bid', [[96, 14], [95, 9], [...</td>\n",
       "      <td>26.288</td>\n",
       "      <td>[[104, 2], [105, 1], [109, 3], [547, 3], [649,...</td>\n",
       "      <td>[[96, 14], [95, 9], [92, 1], [87, 5], [79, 2]]</td>\n",
       "    </tr>\n",
       "    <tr>\n",
       "      <th>202</th>\n",
       "      <td>[26.319, Exch0, [['bid', [[96, 14], [95, 9], [...</td>\n",
       "      <td>26.319</td>\n",
       "      <td>[[104, 2], [105, 1], [109, 3], [547, 3], [649,...</td>\n",
       "      <td>[[96, 14], [95, 9], [92, 1], [79, 2], [12, 5]]</td>\n",
       "    </tr>\n",
       "    <tr>\n",
       "      <th>203</th>\n",
       "      <td>[26.381, Exch0, [['bid', [[96, 14], [95, 9], [...</td>\n",
       "      <td>26.381</td>\n",
       "      <td>[[104, 2], [105, 1], [109, 3], [173, 3], [649,...</td>\n",
       "      <td>[[96, 14], [95, 9], [92, 1], [79, 2], [12, 5]]</td>\n",
       "    </tr>\n",
       "    <tr>\n",
       "      <th>204</th>\n",
       "      <td>[26.412, Exch0, [['bid', [[96, 14], [95, 9], [...</td>\n",
       "      <td>26.412</td>\n",
       "      <td>[[104, 2], [105, 1], [109, 3], [173, 3], [457,...</td>\n",
       "      <td>[[96, 14], [95, 9], [92, 1], [79, 2], [12, 5]]</td>\n",
       "    </tr>\n",
       "  </tbody>\n",
       "</table>\n",
       "</div>"
      ],
      "text/plain": [
       "            [0.000, Exch0, [['bid', []], ['ask', []]]] Timestamps  \\\n",
       "200  [26.102, Exch0, [['bid', [[96, 14], [95, 9], [...     26.102   \n",
       "201  [26.288, Exch0, [['bid', [[96, 14], [95, 9], [...     26.288   \n",
       "202  [26.319, Exch0, [['bid', [[96, 14], [95, 9], [...     26.319   \n",
       "203  [26.381, Exch0, [['bid', [[96, 14], [95, 9], [...     26.381   \n",
       "204  [26.412, Exch0, [['bid', [[96, 14], [95, 9], [...     26.412   \n",
       "\n",
       "                                                  Asks  \\\n",
       "200  [[104, 2], [105, 1], [109, 3], [245, 3], [649,...   \n",
       "201  [[104, 2], [105, 1], [109, 3], [547, 3], [649,...   \n",
       "202  [[104, 2], [105, 1], [109, 3], [547, 3], [649,...   \n",
       "203  [[104, 2], [105, 1], [109, 3], [173, 3], [649,...   \n",
       "204  [[104, 2], [105, 1], [109, 3], [173, 3], [457,...   \n",
       "\n",
       "                                               Bids  \n",
       "200  [[96, 14], [95, 9], [92, 1], [87, 5], [79, 2]]  \n",
       "201  [[96, 14], [95, 9], [92, 1], [87, 5], [79, 2]]  \n",
       "202  [[96, 14], [95, 9], [92, 1], [79, 2], [12, 5]]  \n",
       "203  [[96, 14], [95, 9], [92, 1], [79, 2], [12, 5]]  \n",
       "204  [[96, 14], [95, 9], [92, 1], [79, 2], [12, 5]]  "
      ]
     },
     "execution_count": 63,
     "metadata": {},
     "output_type": "execute_result"
    }
   ],
   "source": [
    "lob.iloc[200:205,:]"
   ]
  },
  {
   "cell_type": "code",
   "execution_count": 64,
   "id": "87d62124",
   "metadata": {},
   "outputs": [],
   "source": [
    "lob = lob.drop(columns=\"[0.000, Exch0, [['bid', []], ['ask', []]]]\")\n",
    "new_row = pd.DataFrame({'Timestamps':'0.000', 'Bids':'[]', 'Asks':'[]'}, index=[0])\n",
    "lob = pd.concat([new_row,lob.loc[:]]).reset_index(drop=True)"
   ]
  },
  {
   "cell_type": "markdown",
   "id": "f9fbf0ea",
   "metadata": {},
   "source": [
    "Now, we export the data to a cleaned csv file for re-import to an EDA procedure."
   ]
  },
  {
   "cell_type": "code",
   "execution_count": 65,
   "id": "d653939f",
   "metadata": {},
   "outputs": [],
   "source": [
    "lob.to_csv(f'cleaned_lob_data_{name}.csv')"
   ]
  }
 ],
 "metadata": {
  "kernelspec": {
   "display_name": "Python 3 (ipykernel)",
   "language": "python",
   "name": "python3"
  },
  "language_info": {
   "codemirror_mode": {
    "name": "ipython",
    "version": 3
   },
   "file_extension": ".py",
   "mimetype": "text/x-python",
   "name": "python",
   "nbconvert_exporter": "python",
   "pygments_lexer": "ipython3",
   "version": "3.10.5"
  }
 },
 "nbformat": 4,
 "nbformat_minor": 5
}
